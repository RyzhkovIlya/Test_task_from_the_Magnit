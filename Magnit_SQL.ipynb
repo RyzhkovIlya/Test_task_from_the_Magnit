{
  "nbformat": 4,
  "nbformat_minor": 0,
  "metadata": {
    "colab": {
      "name": "Magnit_SQL.ipynb",
      "provenance": [],
      "collapsed_sections": []
    },
    "kernelspec": {
      "name": "python3",
      "display_name": "Python 3"
    },
    "language_info": {
      "name": "python"
    }
  },
  "cells": [
    {
      "cell_type": "markdown",
      "metadata": {
        "id": "Dy6UNtJicnW3"
      },
      "source": [
        "# Задание 3\n",
        "Создать процедуру расчета рабочих дней.\n",
        "\n",
        "Входящие параметры:\n",
        "\n",
        "Дата начала периода расчета\n",
        "\n",
        "Дата окончания периода расчета.\n",
        "\n",
        "Ожидаемый результать выполнения хранимой процедуры - заполнение таблицы T_CONTRACTOR_WORK_DAY рабочими днями согласно расписания работы поставщиков из таблицы T_CONTRACTOR_SHERULER Выходные дни (В) не должны попадать в таблицу T_CONTRACTOR_WORK_DAY\n",
        "\n",
        "Пример выполнения для Поставщика 1 (Из примера записи таблицы T_CONTRACTOR_SHERULER) с параметрами '01.01.2019' - '08.01.2019' таблица T_CONTRACTOR_WORK_DAY заполнится следующими данными:\n",
        "\n",
        "- 1 Поставщик 1 01.01.2019 08:00 01.01.2019 20:00\n",
        "- 2 Поставщик 1 03.01.2019 08:00 04.01.2019 08:00\n",
        "- 3 Поставщик 1 04.01.2019 08:00 04.01.2019 08:00\n",
        "- 4 Поставщик 1 05.01.2019 20:00 06.01.2019 08:00\n",
        "- 5 Поставщик 1 07.01.2019 08:00 08.01.2019 08:00\n",
        "- 6 Поставщик 1 08.01.2019 20:00 09.01.2019 08:00\n",
        "\n",
        "Пояснение: для записей с 01.01.2019 по 04.01.2019 берется расписание ДВС\n",
        "\n",
        "- 1 - Д - дневная смена далее следует выходной В - запись о выходном дне не попадает в таблицу\n",
        "- 2 - С - суточная смена\n",
        "- 3 - расписание закончилось, поэтому оно циклично начинается с начала (Д - дневная смена)\n",
        "- 4 - С 05.01.2019 начинает действовать новое расписание - НВС берется Н - ночная смена далее следует выходной В - запись о выходном дне не попадает в таблицу\n",
        "- 5 - С - суточная смена\n",
        "- 6 - Снова Н - ночная смена"
      ]
    },
    {
      "cell_type": "code",
      "metadata": {
        "id": "99nAbzC0Skld"
      },
      "source": [
        "import pandas as pd\n",
        "from datetime import datetime, timedelta"
      ],
      "execution_count": 311,
      "outputs": []
    },
    {
      "cell_type": "code",
      "metadata": {
        "id": "ZXOvzpX5fW2O"
      },
      "source": [
        "def my_sql(df_1, df_2):\n",
        "    \"\"\"\n",
        "    Функция для заполнения таблицы T_CONTRACTOR_WORK_DAY.\n",
        "    Принимает на вход таблицы T_CONTRACTOR_SHERULER и T_CONTRACTOR_WORK_DAY и возвращает заполненную таблицу T_CONTRACTOR_WORK_DAY.\n",
        "    \"\"\"\n",
        "    \n",
        "    count = 0\n",
        "    for i in range(len(df_1)):\n",
        "        curent_day = (df_1.iloc[i,3] - df_1.iloc[i,2]).days\n",
        "        open = (df_1.iloc[i,2])\n",
        "        while curent_day > 1:\n",
        "            for j in range(len(df_1.iloc[i,1])):\n",
        "                day = df_1.iloc[i,1]\n",
        "                if day[j] == 'д':\n",
        "                    T_CONTRACTOR_WORK_DAY.loc[count] = ([df_1.iloc[i,0], open + timedelta(hours=8), open + timedelta(hours=20)])\n",
        "                    curent_day -= 1\n",
        "                    open += timedelta(days=1)\n",
        "                if day[j] == 'в':\n",
        "                    curent_day -= 1\n",
        "                    open += timedelta(days=1)\n",
        "                if day[j] == 'с':\n",
        "                    T_CONTRACTOR_WORK_DAY.loc[count] = ([df_1.iloc[i,0], open + timedelta(hours=8), open + timedelta(days=1) + timedelta(hours=8)])\n",
        "                    curent_day -= 1\n",
        "                    open += timedelta(days=1)\n",
        "                if day[j] == 'н':\n",
        "                    T_CONTRACTOR_WORK_DAY.loc[count] = ([df_1.iloc[i,0], open + timedelta(hours=20), open + timedelta(days=1) + timedelta(hours=8)])\n",
        "                    curent_day -= 1\n",
        "                    open += timedelta(days=1)\n",
        "                count += 1\n",
        "    df_2.reset_index(drop=True, inplace=True)\n",
        "    return df_2"
      ],
      "execution_count": 312,
      "outputs": []
    },
    {
      "cell_type": "code",
      "metadata": {
        "colab": {
          "base_uri": "https://localhost:8080/",
          "height": 300
        },
        "id": "0S5ndPiXS0XJ",
        "outputId": "0ff13c8d-9424-4e97-b03d-34bc9c91b74d"
      },
      "source": [
        "T_CONTRACTOR_SHERULER  = pd.read_csv('/content/drive/MyDrive/Elbrus/shedulers.csv', encoding=result['encoding'], sep =';')\n",
        "T_CONTRACTOR_SHERULER"
      ],
      "execution_count": 313,
      "outputs": [
        {
          "output_type": "execute_result",
          "data": {
            "text/html": [
              "<div>\n",
              "<style scoped>\n",
              "    .dataframe tbody tr th:only-of-type {\n",
              "        vertical-align: middle;\n",
              "    }\n",
              "\n",
              "    .dataframe tbody tr th {\n",
              "        vertical-align: top;\n",
              "    }\n",
              "\n",
              "    .dataframe thead th {\n",
              "        text-align: right;\n",
              "    }\n",
              "</style>\n",
              "<table border=\"1\" class=\"dataframe\">\n",
              "  <thead>\n",
              "    <tr style=\"text-align: right;\">\n",
              "      <th></th>\n",
              "      <th>ФИО</th>\n",
              "      <th>Расписание</th>\n",
              "      <th>Дата начала расписания</th>\n",
              "      <th>Дата окончания расписания</th>\n",
              "    </tr>\n",
              "  </thead>\n",
              "  <tbody>\n",
              "    <tr>\n",
              "      <th>0</th>\n",
              "      <td>Поставщик 1</td>\n",
              "      <td>дддвсвнн</td>\n",
              "      <td>01.01.2019 0:00</td>\n",
              "      <td>10.01.2019 0:00</td>\n",
              "    </tr>\n",
              "    <tr>\n",
              "      <th>1</th>\n",
              "      <td>Поставщик 1</td>\n",
              "      <td>ннвннв</td>\n",
              "      <td>11.01.2019 0:00</td>\n",
              "      <td>15.01.2019 0:00</td>\n",
              "    </tr>\n",
              "    <tr>\n",
              "      <th>2</th>\n",
              "      <td>Поставщик 1</td>\n",
              "      <td>св</td>\n",
              "      <td>16.01.2019 0:00</td>\n",
              "      <td>20.01.2019 0:00</td>\n",
              "    </tr>\n",
              "    <tr>\n",
              "      <th>3</th>\n",
              "      <td>Поставщик 2</td>\n",
              "      <td>свсвсв</td>\n",
              "      <td>01.01.2019 0:00</td>\n",
              "      <td>07.01.2019 0:00</td>\n",
              "    </tr>\n",
              "    <tr>\n",
              "      <th>4</th>\n",
              "      <td>Поставщик 2</td>\n",
              "      <td>днвсв</td>\n",
              "      <td>08.01.2019 0:00</td>\n",
              "      <td>14.01.2019 0:00</td>\n",
              "    </tr>\n",
              "    <tr>\n",
              "      <th>5</th>\n",
              "      <td>Поставщик 2</td>\n",
              "      <td>ннддвсв</td>\n",
              "      <td>15.01.2019 0:00</td>\n",
              "      <td>31.12.9999 0:00</td>\n",
              "    </tr>\n",
              "    <tr>\n",
              "      <th>6</th>\n",
              "      <td>Поставщик 3</td>\n",
              "      <td>нвнвнв</td>\n",
              "      <td>01.01.2019 0:00</td>\n",
              "      <td>01.02.2019 0:00</td>\n",
              "    </tr>\n",
              "    <tr>\n",
              "      <th>7</th>\n",
              "      <td>Поставщик 3</td>\n",
              "      <td>двдвдвдв</td>\n",
              "      <td>02.02.2019 0:00</td>\n",
              "      <td>31.12.9999 0:00</td>\n",
              "    </tr>\n",
              "  </tbody>\n",
              "</table>\n",
              "</div>"
            ],
            "text/plain": [
              "           ФИО Расписание Дата начала расписания Дата окончания расписания\n",
              "0  Поставщик 1   дддвсвнн        01.01.2019 0:00           10.01.2019 0:00\n",
              "1  Поставщик 1     ннвннв        11.01.2019 0:00           15.01.2019 0:00\n",
              "2  Поставщик 1         св        16.01.2019 0:00           20.01.2019 0:00\n",
              "3  Поставщик 2     свсвсв        01.01.2019 0:00           07.01.2019 0:00\n",
              "4  Поставщик 2      днвсв        08.01.2019 0:00           14.01.2019 0:00\n",
              "5  Поставщик 2    ннддвсв        15.01.2019 0:00           31.12.9999 0:00\n",
              "6  Поставщик 3     нвнвнв        01.01.2019 0:00           01.02.2019 0:00\n",
              "7  Поставщик 3   двдвдвдв        02.02.2019 0:00           31.12.9999 0:00"
            ]
          },
          "metadata": {},
          "execution_count": 313
        }
      ]
    },
    {
      "cell_type": "code",
      "metadata": {
        "colab": {
          "base_uri": "https://localhost:8080/",
          "height": 300
        },
        "id": "dBcOefPhhZ-0",
        "outputId": "253ea727-1b66-475f-89e5-5b6097e312e6"
      },
      "source": [
        "# Преобразуем 'Дата начала расписания' и 'Дата окончания расписания' в формат datetime\n",
        "T_CONTRACTOR_SHERULER['Дата начала расписания'] = T_CONTRACTOR_SHERULER['Дата начала расписания'].apply(lambda x: x[:11] + '00:00')\n",
        "T_CONTRACTOR_SHERULER['Дата окончания расписания'] = T_CONTRACTOR_SHERULER['Дата окончания расписания'].apply(lambda x: x[:11] + '00:00')\n",
        "T_CONTRACTOR_SHERULER.iloc[5,-1] = '31.12.2019 00:00'\n",
        "T_CONTRACTOR_SHERULER.iloc[7,-1] = '31.12.2019 00:00'\n",
        "T_CONTRACTOR_SHERULER['Дата начала расписания'] = pd.to_datetime(T_CONTRACTOR_SHERULER['Дата начала расписания'], format = \"%d.%m.%Y %H:%M\")\n",
        "T_CONTRACTOR_SHERULER['Дата окончания расписания'] = pd.to_datetime(T_CONTRACTOR_SHERULER['Дата окончания расписания'], format = \"%d.%m.%Y %H:%M\")\n",
        "T_CONTRACTOR_SHERULER"
      ],
      "execution_count": 315,
      "outputs": [
        {
          "output_type": "execute_result",
          "data": {
            "text/html": [
              "<div>\n",
              "<style scoped>\n",
              "    .dataframe tbody tr th:only-of-type {\n",
              "        vertical-align: middle;\n",
              "    }\n",
              "\n",
              "    .dataframe tbody tr th {\n",
              "        vertical-align: top;\n",
              "    }\n",
              "\n",
              "    .dataframe thead th {\n",
              "        text-align: right;\n",
              "    }\n",
              "</style>\n",
              "<table border=\"1\" class=\"dataframe\">\n",
              "  <thead>\n",
              "    <tr style=\"text-align: right;\">\n",
              "      <th></th>\n",
              "      <th>ФИО</th>\n",
              "      <th>Расписание</th>\n",
              "      <th>Дата начала расписания</th>\n",
              "      <th>Дата окончания расписания</th>\n",
              "    </tr>\n",
              "  </thead>\n",
              "  <tbody>\n",
              "    <tr>\n",
              "      <th>0</th>\n",
              "      <td>Поставщик 1</td>\n",
              "      <td>дддвсвнн</td>\n",
              "      <td>2019-01-01</td>\n",
              "      <td>2019-01-10</td>\n",
              "    </tr>\n",
              "    <tr>\n",
              "      <th>1</th>\n",
              "      <td>Поставщик 1</td>\n",
              "      <td>ннвннв</td>\n",
              "      <td>2019-01-11</td>\n",
              "      <td>2019-01-15</td>\n",
              "    </tr>\n",
              "    <tr>\n",
              "      <th>2</th>\n",
              "      <td>Поставщик 1</td>\n",
              "      <td>св</td>\n",
              "      <td>2019-01-16</td>\n",
              "      <td>2019-01-20</td>\n",
              "    </tr>\n",
              "    <tr>\n",
              "      <th>3</th>\n",
              "      <td>Поставщик 2</td>\n",
              "      <td>свсвсв</td>\n",
              "      <td>2019-01-01</td>\n",
              "      <td>2019-01-07</td>\n",
              "    </tr>\n",
              "    <tr>\n",
              "      <th>4</th>\n",
              "      <td>Поставщик 2</td>\n",
              "      <td>днвсв</td>\n",
              "      <td>2019-01-08</td>\n",
              "      <td>2019-01-14</td>\n",
              "    </tr>\n",
              "    <tr>\n",
              "      <th>5</th>\n",
              "      <td>Поставщик 2</td>\n",
              "      <td>ннддвсв</td>\n",
              "      <td>2019-01-15</td>\n",
              "      <td>2019-12-31</td>\n",
              "    </tr>\n",
              "    <tr>\n",
              "      <th>6</th>\n",
              "      <td>Поставщик 3</td>\n",
              "      <td>нвнвнв</td>\n",
              "      <td>2019-01-01</td>\n",
              "      <td>2019-02-01</td>\n",
              "    </tr>\n",
              "    <tr>\n",
              "      <th>7</th>\n",
              "      <td>Поставщик 3</td>\n",
              "      <td>двдвдвдв</td>\n",
              "      <td>2019-02-02</td>\n",
              "      <td>2019-12-31</td>\n",
              "    </tr>\n",
              "  </tbody>\n",
              "</table>\n",
              "</div>"
            ],
            "text/plain": [
              "           ФИО Расписание Дата начала расписания Дата окончания расписания\n",
              "0  Поставщик 1   дддвсвнн             2019-01-01                2019-01-10\n",
              "1  Поставщик 1     ннвннв             2019-01-11                2019-01-15\n",
              "2  Поставщик 1         св             2019-01-16                2019-01-20\n",
              "3  Поставщик 2     свсвсв             2019-01-01                2019-01-07\n",
              "4  Поставщик 2      днвсв             2019-01-08                2019-01-14\n",
              "5  Поставщик 2    ннддвсв             2019-01-15                2019-12-31\n",
              "6  Поставщик 3     нвнвнв             2019-01-01                2019-02-01\n",
              "7  Поставщик 3   двдвдвдв             2019-02-02                2019-12-31"
            ]
          },
          "metadata": {},
          "execution_count": 315
        }
      ]
    },
    {
      "cell_type": "code",
      "metadata": {
        "id": "CODuaRC4VRbi"
      },
      "source": [
        "# Создаем таблицу T_CONTRACTOR_WORK_DAY, ID - идентификатор записи является индексом\n",
        "T_CONTRACTOR_WORK_DAY = pd.DataFrame(columns=['NAME', 'DATE_BEGIN', 'DATE_END'])"
      ],
      "execution_count": 316,
      "outputs": []
    },
    {
      "cell_type": "code",
      "metadata": {
        "id": "YFVdibuBdAW9"
      },
      "source": [
        "# Применяем функцию my_sql()\n",
        "T_CONTRACTOR_WORK_DAY = my_sql(T_CONTRACTOR_SHERULER, T_CONTRACTOR_WORK_DAY)"
      ],
      "execution_count": 317,
      "outputs": []
    },
    {
      "cell_type": "markdown",
      "metadata": {
        "id": "Lb_tDjuWfCBe"
      },
      "source": [
        "# Задание 4\n",
        "С помощью SQL запросов:\n",
        "\n",
        "1. Сделать выборку содержащую сколько рабочих дней было у каждого поставщика\n",
        "2. Сделать выборку поставщиков, у которыйх было больше 10 рабочих дней за январь 2019 года\n",
        "3. Сделать выборку поставщиков, кто работал 14, 15 и 16 января 2019 года"
      ]
    },
    {
      "cell_type": "markdown",
      "metadata": {
        "id": "YX5EHXB4fH6T"
      },
      "source": [
        "1. Сделать выборку содержащую сколько рабочих дней было у каждого поставщика"
      ]
    },
    {
      "cell_type": "code",
      "metadata": {
        "colab": {
          "base_uri": "https://localhost:8080/"
        },
        "id": "GCU1W5fTu8qr",
        "outputId": "076d36aa-b34e-4eb8-83fa-4ee3cb7d1dd0"
      },
      "source": [
        "T_CONTRACTOR_WORK_DAY.NAME.value_counts()"
      ],
      "execution_count": 318,
      "outputs": [
        {
          "output_type": "execute_result",
          "data": {
            "text/plain": [
              "Поставщик 2    256\n",
              "Поставщик 3    183\n",
              "Поставщик 1     12\n",
              "Name: NAME, dtype: int64"
            ]
          },
          "metadata": {},
          "execution_count": 318
        }
      ]
    },
    {
      "cell_type": "markdown",
      "metadata": {
        "id": "RSF0tpNcfMX6"
      },
      "source": [
        "2. Сделать выборку поставщиков, у которыйх было больше 10 рабочих дней за январь 2019 года"
      ]
    },
    {
      "cell_type": "code",
      "metadata": {
        "colab": {
          "base_uri": "https://localhost:8080/"
        },
        "id": "xGnfsTUFvAs4",
        "outputId": "b1ac2d70-d65d-4875-c2d9-d1d13f83f365"
      },
      "source": [
        "T_CONTRACTOR_WORK_DAY[(T_CONTRACTOR_WORK_DAY['DATE_BEGIN'] >= '2019-01-01')&(T_CONTRACTOR_WORK_DAY['DATE_BEGIN'] < '2019-02-01')].NAME.value_counts()[T_CONTRACTOR_WORK_DAY[(T_CONTRACTOR_WORK_DAY['DATE_BEGIN'] >= '2019-01-01')&(T_CONTRACTOR_WORK_DAY['DATE_BEGIN'] < '2019-02-01')].NAME.value_counts()>10]"
      ],
      "execution_count": 319,
      "outputs": [
        {
          "output_type": "execute_result",
          "data": {
            "text/plain": [
              "Поставщик 2    19\n",
              "Поставщик 3    15\n",
              "Поставщик 1    12\n",
              "Name: NAME, dtype: int64"
            ]
          },
          "metadata": {},
          "execution_count": 319
        }
      ]
    },
    {
      "cell_type": "markdown",
      "metadata": {
        "id": "MtX_buKBfOwS"
      },
      "source": [
        "3. Сделать выборку поставщиков, кто работал 14, 15 и 16 января 2019 года"
      ]
    },
    {
      "cell_type": "code",
      "metadata": {
        "colab": {
          "base_uri": "https://localhost:8080/",
          "height": 269
        },
        "id": "Ps0Wj1NCwFQa",
        "outputId": "10131ba1-ab99-4640-f296-665eebfc06d2"
      },
      "source": [
        "T_CONTRACTOR_WORK_DAY[(T_CONTRACTOR_WORK_DAY['DATE_BEGIN'] >= '2019-01-14')&(T_CONTRACTOR_WORK_DAY['DATE_BEGIN'] < '2019-01-17') | ((T_CONTRACTOR_WORK_DAY['DATE_END'] >= '2019-01-14')&(T_CONTRACTOR_WORK_DAY['DATE_END'] < '2019-01-17'))]"
      ],
      "execution_count": 320,
      "outputs": [
        {
          "output_type": "execute_result",
          "data": {
            "text/html": [
              "<div>\n",
              "<style scoped>\n",
              "    .dataframe tbody tr th:only-of-type {\n",
              "        vertical-align: middle;\n",
              "    }\n",
              "\n",
              "    .dataframe tbody tr th {\n",
              "        vertical-align: top;\n",
              "    }\n",
              "\n",
              "    .dataframe thead th {\n",
              "        text-align: right;\n",
              "    }\n",
              "</style>\n",
              "<table border=\"1\" class=\"dataframe\">\n",
              "  <thead>\n",
              "    <tr style=\"text-align: right;\">\n",
              "      <th></th>\n",
              "      <th>NAME</th>\n",
              "      <th>DATE_BEGIN</th>\n",
              "      <th>DATE_END</th>\n",
              "    </tr>\n",
              "  </thead>\n",
              "  <tbody>\n",
              "    <tr>\n",
              "      <th>8</th>\n",
              "      <td>Поставщик 1</td>\n",
              "      <td>2019-01-14 20:00:00</td>\n",
              "      <td>2019-01-15 08:00:00</td>\n",
              "    </tr>\n",
              "    <tr>\n",
              "      <th>9</th>\n",
              "      <td>Поставщик 1</td>\n",
              "      <td>2019-01-15 20:00:00</td>\n",
              "      <td>2019-01-16 08:00:00</td>\n",
              "    </tr>\n",
              "    <tr>\n",
              "      <th>10</th>\n",
              "      <td>Поставщик 1</td>\n",
              "      <td>2019-01-16 08:00:00</td>\n",
              "      <td>2019-01-17 08:00:00</td>\n",
              "    </tr>\n",
              "    <tr>\n",
              "      <th>18</th>\n",
              "      <td>Поставщик 2</td>\n",
              "      <td>2019-01-15 20:00:00</td>\n",
              "      <td>2019-01-16 08:00:00</td>\n",
              "    </tr>\n",
              "    <tr>\n",
              "      <th>19</th>\n",
              "      <td>Поставщик 2</td>\n",
              "      <td>2019-01-16 20:00:00</td>\n",
              "      <td>2019-01-17 08:00:00</td>\n",
              "    </tr>\n",
              "    <tr>\n",
              "      <th>274</th>\n",
              "      <td>Поставщик 3</td>\n",
              "      <td>2019-01-13 20:00:00</td>\n",
              "      <td>2019-01-14 08:00:00</td>\n",
              "    </tr>\n",
              "    <tr>\n",
              "      <th>275</th>\n",
              "      <td>Поставщик 3</td>\n",
              "      <td>2019-01-15 20:00:00</td>\n",
              "      <td>2019-01-16 08:00:00</td>\n",
              "    </tr>\n",
              "  </tbody>\n",
              "</table>\n",
              "</div>"
            ],
            "text/plain": [
              "            NAME          DATE_BEGIN            DATE_END\n",
              "8    Поставщик 1 2019-01-14 20:00:00 2019-01-15 08:00:00\n",
              "9    Поставщик 1 2019-01-15 20:00:00 2019-01-16 08:00:00\n",
              "10   Поставщик 1 2019-01-16 08:00:00 2019-01-17 08:00:00\n",
              "18   Поставщик 2 2019-01-15 20:00:00 2019-01-16 08:00:00\n",
              "19   Поставщик 2 2019-01-16 20:00:00 2019-01-17 08:00:00\n",
              "274  Поставщик 3 2019-01-13 20:00:00 2019-01-14 08:00:00\n",
              "275  Поставщик 3 2019-01-15 20:00:00 2019-01-16 08:00:00"
            ]
          },
          "metadata": {},
          "execution_count": 320
        }
      ]
    }
  ]
}