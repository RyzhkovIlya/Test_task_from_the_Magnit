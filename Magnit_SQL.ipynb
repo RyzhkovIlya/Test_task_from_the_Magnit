{
  "nbformat": 4,
  "nbformat_minor": 0,
  "metadata": {
    "colab": {
      "name": "Magnit_SQL.ipynb",
      "provenance": [],
      "collapsed_sections": [],
      "toc_visible": true
    },
    "kernelspec": {
      "name": "python3",
      "display_name": "Python 3"
    },
    "language_info": {
      "name": "python"
    }
  },
  "cells": [
    {
      "cell_type": "code",
      "metadata": {
        "id": "99nAbzC0Skld"
      },
      "source": [
        "import pandas as pd\n",
        "from datetime import datetime, timedelta"
      ],
      "execution_count": 276,
      "outputs": []
    },
    {
      "cell_type": "code",
      "metadata": {
        "colab": {
          "base_uri": "https://localhost:8080/",
          "height": 300
        },
        "id": "0S5ndPiXS0XJ",
        "outputId": "4ae239a7-b88f-43c9-98e4-40d5545bba5f"
      },
      "source": [
        "T_CONTRACTOR_SHERULER  = pd.read_csv('/content/drive/MyDrive/Elbrus/shedulers.csv', encoding=result['encoding'], sep =';')\n",
        "T_CONTRACTOR_SHERULER"
      ],
      "execution_count": 277,
      "outputs": [
        {
          "output_type": "execute_result",
          "data": {
            "text/html": [
              "<div>\n",
              "<style scoped>\n",
              "    .dataframe tbody tr th:only-of-type {\n",
              "        vertical-align: middle;\n",
              "    }\n",
              "\n",
              "    .dataframe tbody tr th {\n",
              "        vertical-align: top;\n",
              "    }\n",
              "\n",
              "    .dataframe thead th {\n",
              "        text-align: right;\n",
              "    }\n",
              "</style>\n",
              "<table border=\"1\" class=\"dataframe\">\n",
              "  <thead>\n",
              "    <tr style=\"text-align: right;\">\n",
              "      <th></th>\n",
              "      <th>ФИО</th>\n",
              "      <th>Расписание</th>\n",
              "      <th>Дата начала расписания</th>\n",
              "      <th>Дата окончания расписания</th>\n",
              "    </tr>\n",
              "  </thead>\n",
              "  <tbody>\n",
              "    <tr>\n",
              "      <th>0</th>\n",
              "      <td>Поставщик 1</td>\n",
              "      <td>дддвсвнн</td>\n",
              "      <td>01.01.2019 0:00</td>\n",
              "      <td>10.01.2019 0:00</td>\n",
              "    </tr>\n",
              "    <tr>\n",
              "      <th>1</th>\n",
              "      <td>Поставщик 1</td>\n",
              "      <td>ннвннв</td>\n",
              "      <td>11.01.2019 0:00</td>\n",
              "      <td>15.01.2019 0:00</td>\n",
              "    </tr>\n",
              "    <tr>\n",
              "      <th>2</th>\n",
              "      <td>Поставщик 1</td>\n",
              "      <td>св</td>\n",
              "      <td>16.01.2019 0:00</td>\n",
              "      <td>20.01.2019 0:00</td>\n",
              "    </tr>\n",
              "    <tr>\n",
              "      <th>3</th>\n",
              "      <td>Поставщик 2</td>\n",
              "      <td>свсвсв</td>\n",
              "      <td>01.01.2019 0:00</td>\n",
              "      <td>07.01.2019 0:00</td>\n",
              "    </tr>\n",
              "    <tr>\n",
              "      <th>4</th>\n",
              "      <td>Поставщик 2</td>\n",
              "      <td>днвсв</td>\n",
              "      <td>08.01.2019 0:00</td>\n",
              "      <td>14.01.2019 0:00</td>\n",
              "    </tr>\n",
              "    <tr>\n",
              "      <th>5</th>\n",
              "      <td>Поставщик 2</td>\n",
              "      <td>ннддвсв</td>\n",
              "      <td>15.01.2019 0:00</td>\n",
              "      <td>31.12.9999 0:00</td>\n",
              "    </tr>\n",
              "    <tr>\n",
              "      <th>6</th>\n",
              "      <td>Поставщик 3</td>\n",
              "      <td>нвнвнв</td>\n",
              "      <td>01.01.2019 0:00</td>\n",
              "      <td>01.02.2019 0:00</td>\n",
              "    </tr>\n",
              "    <tr>\n",
              "      <th>7</th>\n",
              "      <td>Поставщик 3</td>\n",
              "      <td>двдвдвдв</td>\n",
              "      <td>02.02.2019 0:00</td>\n",
              "      <td>31.12.9999 0:00</td>\n",
              "    </tr>\n",
              "  </tbody>\n",
              "</table>\n",
              "</div>"
            ],
            "text/plain": [
              "           ФИО Расписание Дата начала расписания Дата окончания расписания\n",
              "0  Поставщик 1   дддвсвнн        01.01.2019 0:00           10.01.2019 0:00\n",
              "1  Поставщик 1     ннвннв        11.01.2019 0:00           15.01.2019 0:00\n",
              "2  Поставщик 1         св        16.01.2019 0:00           20.01.2019 0:00\n",
              "3  Поставщик 2     свсвсв        01.01.2019 0:00           07.01.2019 0:00\n",
              "4  Поставщик 2      днвсв        08.01.2019 0:00           14.01.2019 0:00\n",
              "5  Поставщик 2    ннддвсв        15.01.2019 0:00           31.12.9999 0:00\n",
              "6  Поставщик 3     нвнвнв        01.01.2019 0:00           01.02.2019 0:00\n",
              "7  Поставщик 3   двдвдвдв        02.02.2019 0:00           31.12.9999 0:00"
            ]
          },
          "metadata": {},
          "execution_count": 277
        }
      ]
    },
    {
      "cell_type": "code",
      "metadata": {
        "colab": {
          "base_uri": "https://localhost:8080/",
          "height": 300
        },
        "id": "dBcOefPhhZ-0",
        "outputId": "e3dd2e1f-8acf-4031-d6d7-6d5eb3dac9c5"
      },
      "source": [
        "T_CONTRACTOR_SHERULER['Дата начала расписания'] = T_CONTRACTOR_SHERULER['Дата начала расписания'].apply(lambda x: x[:11] + '00:00')\n",
        "T_CONTRACTOR_SHERULER['Дата окончания расписания'] = T_CONTRACTOR_SHERULER['Дата окончания расписания'].apply(lambda x: x[:11] + '00:00')\n",
        "T_CONTRACTOR_SHERULER.iloc[5,-1] = '31.12.2019 00:00'\n",
        "T_CONTRACTOR_SHERULER.iloc[7,-1] = '31.12.2019 00:00'\n",
        "T_CONTRACTOR_SHERULER"
      ],
      "execution_count": 278,
      "outputs": [
        {
          "output_type": "execute_result",
          "data": {
            "text/html": [
              "<div>\n",
              "<style scoped>\n",
              "    .dataframe tbody tr th:only-of-type {\n",
              "        vertical-align: middle;\n",
              "    }\n",
              "\n",
              "    .dataframe tbody tr th {\n",
              "        vertical-align: top;\n",
              "    }\n",
              "\n",
              "    .dataframe thead th {\n",
              "        text-align: right;\n",
              "    }\n",
              "</style>\n",
              "<table border=\"1\" class=\"dataframe\">\n",
              "  <thead>\n",
              "    <tr style=\"text-align: right;\">\n",
              "      <th></th>\n",
              "      <th>ФИО</th>\n",
              "      <th>Расписание</th>\n",
              "      <th>Дата начала расписания</th>\n",
              "      <th>Дата окончания расписания</th>\n",
              "    </tr>\n",
              "  </thead>\n",
              "  <tbody>\n",
              "    <tr>\n",
              "      <th>0</th>\n",
              "      <td>Поставщик 1</td>\n",
              "      <td>дддвсвнн</td>\n",
              "      <td>01.01.2019 00:00</td>\n",
              "      <td>10.01.2019 00:00</td>\n",
              "    </tr>\n",
              "    <tr>\n",
              "      <th>1</th>\n",
              "      <td>Поставщик 1</td>\n",
              "      <td>ннвннв</td>\n",
              "      <td>11.01.2019 00:00</td>\n",
              "      <td>15.01.2019 00:00</td>\n",
              "    </tr>\n",
              "    <tr>\n",
              "      <th>2</th>\n",
              "      <td>Поставщик 1</td>\n",
              "      <td>св</td>\n",
              "      <td>16.01.2019 00:00</td>\n",
              "      <td>20.01.2019 00:00</td>\n",
              "    </tr>\n",
              "    <tr>\n",
              "      <th>3</th>\n",
              "      <td>Поставщик 2</td>\n",
              "      <td>свсвсв</td>\n",
              "      <td>01.01.2019 00:00</td>\n",
              "      <td>07.01.2019 00:00</td>\n",
              "    </tr>\n",
              "    <tr>\n",
              "      <th>4</th>\n",
              "      <td>Поставщик 2</td>\n",
              "      <td>днвсв</td>\n",
              "      <td>08.01.2019 00:00</td>\n",
              "      <td>14.01.2019 00:00</td>\n",
              "    </tr>\n",
              "    <tr>\n",
              "      <th>5</th>\n",
              "      <td>Поставщик 2</td>\n",
              "      <td>ннддвсв</td>\n",
              "      <td>15.01.2019 00:00</td>\n",
              "      <td>31.12.2019 00:00</td>\n",
              "    </tr>\n",
              "    <tr>\n",
              "      <th>6</th>\n",
              "      <td>Поставщик 3</td>\n",
              "      <td>нвнвнв</td>\n",
              "      <td>01.01.2019 00:00</td>\n",
              "      <td>01.02.2019 00:00</td>\n",
              "    </tr>\n",
              "    <tr>\n",
              "      <th>7</th>\n",
              "      <td>Поставщик 3</td>\n",
              "      <td>двдвдвдв</td>\n",
              "      <td>02.02.2019 00:00</td>\n",
              "      <td>31.12.2019 00:00</td>\n",
              "    </tr>\n",
              "  </tbody>\n",
              "</table>\n",
              "</div>"
            ],
            "text/plain": [
              "           ФИО Расписание Дата начала расписания Дата окончания расписания\n",
              "0  Поставщик 1   дддвсвнн       01.01.2019 00:00          10.01.2019 00:00\n",
              "1  Поставщик 1     ннвннв       11.01.2019 00:00          15.01.2019 00:00\n",
              "2  Поставщик 1         св       16.01.2019 00:00          20.01.2019 00:00\n",
              "3  Поставщик 2     свсвсв       01.01.2019 00:00          07.01.2019 00:00\n",
              "4  Поставщик 2      днвсв       08.01.2019 00:00          14.01.2019 00:00\n",
              "5  Поставщик 2    ннддвсв       15.01.2019 00:00          31.12.2019 00:00\n",
              "6  Поставщик 3     нвнвнв       01.01.2019 00:00          01.02.2019 00:00\n",
              "7  Поставщик 3   двдвдвдв       02.02.2019 00:00          31.12.2019 00:00"
            ]
          },
          "metadata": {},
          "execution_count": 278
        }
      ]
    },
    {
      "cell_type": "code",
      "metadata": {
        "colab": {
          "base_uri": "https://localhost:8080/",
          "height": 300
        },
        "id": "Jhuloy5ZhYmg",
        "outputId": "c5ed421c-faac-4972-dcae-b1f479b12da6"
      },
      "source": [
        "T_CONTRACTOR_SHERULER['Дата начала расписания'] = pd.to_datetime(T_CONTRACTOR_SHERULER['Дата начала расписания'], format = \"%d.%m.%Y %H:%M\")\n",
        "T_CONTRACTOR_SHERULER['Дата окончания расписания'] = pd.to_datetime(T_CONTRACTOR_SHERULER['Дата окончания расписания'], format = \"%d.%m.%Y %H:%M\")\n",
        "T_CONTRACTOR_SHERULER"
      ],
      "execution_count": 279,
      "outputs": [
        {
          "output_type": "execute_result",
          "data": {
            "text/html": [
              "<div>\n",
              "<style scoped>\n",
              "    .dataframe tbody tr th:only-of-type {\n",
              "        vertical-align: middle;\n",
              "    }\n",
              "\n",
              "    .dataframe tbody tr th {\n",
              "        vertical-align: top;\n",
              "    }\n",
              "\n",
              "    .dataframe thead th {\n",
              "        text-align: right;\n",
              "    }\n",
              "</style>\n",
              "<table border=\"1\" class=\"dataframe\">\n",
              "  <thead>\n",
              "    <tr style=\"text-align: right;\">\n",
              "      <th></th>\n",
              "      <th>ФИО</th>\n",
              "      <th>Расписание</th>\n",
              "      <th>Дата начала расписания</th>\n",
              "      <th>Дата окончания расписания</th>\n",
              "    </tr>\n",
              "  </thead>\n",
              "  <tbody>\n",
              "    <tr>\n",
              "      <th>0</th>\n",
              "      <td>Поставщик 1</td>\n",
              "      <td>дддвсвнн</td>\n",
              "      <td>2019-01-01</td>\n",
              "      <td>2019-01-10</td>\n",
              "    </tr>\n",
              "    <tr>\n",
              "      <th>1</th>\n",
              "      <td>Поставщик 1</td>\n",
              "      <td>ннвннв</td>\n",
              "      <td>2019-01-11</td>\n",
              "      <td>2019-01-15</td>\n",
              "    </tr>\n",
              "    <tr>\n",
              "      <th>2</th>\n",
              "      <td>Поставщик 1</td>\n",
              "      <td>св</td>\n",
              "      <td>2019-01-16</td>\n",
              "      <td>2019-01-20</td>\n",
              "    </tr>\n",
              "    <tr>\n",
              "      <th>3</th>\n",
              "      <td>Поставщик 2</td>\n",
              "      <td>свсвсв</td>\n",
              "      <td>2019-01-01</td>\n",
              "      <td>2019-01-07</td>\n",
              "    </tr>\n",
              "    <tr>\n",
              "      <th>4</th>\n",
              "      <td>Поставщик 2</td>\n",
              "      <td>днвсв</td>\n",
              "      <td>2019-01-08</td>\n",
              "      <td>2019-01-14</td>\n",
              "    </tr>\n",
              "    <tr>\n",
              "      <th>5</th>\n",
              "      <td>Поставщик 2</td>\n",
              "      <td>ннддвсв</td>\n",
              "      <td>2019-01-15</td>\n",
              "      <td>2019-12-31</td>\n",
              "    </tr>\n",
              "    <tr>\n",
              "      <th>6</th>\n",
              "      <td>Поставщик 3</td>\n",
              "      <td>нвнвнв</td>\n",
              "      <td>2019-01-01</td>\n",
              "      <td>2019-02-01</td>\n",
              "    </tr>\n",
              "    <tr>\n",
              "      <th>7</th>\n",
              "      <td>Поставщик 3</td>\n",
              "      <td>двдвдвдв</td>\n",
              "      <td>2019-02-02</td>\n",
              "      <td>2019-12-31</td>\n",
              "    </tr>\n",
              "  </tbody>\n",
              "</table>\n",
              "</div>"
            ],
            "text/plain": [
              "           ФИО Расписание Дата начала расписания Дата окончания расписания\n",
              "0  Поставщик 1   дддвсвнн             2019-01-01                2019-01-10\n",
              "1  Поставщик 1     ннвннв             2019-01-11                2019-01-15\n",
              "2  Поставщик 1         св             2019-01-16                2019-01-20\n",
              "3  Поставщик 2     свсвсв             2019-01-01                2019-01-07\n",
              "4  Поставщик 2      днвсв             2019-01-08                2019-01-14\n",
              "5  Поставщик 2    ннддвсв             2019-01-15                2019-12-31\n",
              "6  Поставщик 3     нвнвнв             2019-01-01                2019-02-01\n",
              "7  Поставщик 3   двдвдвдв             2019-02-02                2019-12-31"
            ]
          },
          "metadata": {},
          "execution_count": 279
        }
      ]
    },
    {
      "cell_type": "code",
      "metadata": {
        "colab": {
          "base_uri": "https://localhost:8080/",
          "height": 49
        },
        "id": "CODuaRC4VRbi",
        "outputId": "90966609-c710-47fa-916c-6ac3db0631a0"
      },
      "source": [
        "T_CONTRACTOR_WORK_DAY = pd.DataFrame(columns=['NAME', 'DATE_BEGIN', 'DATE_END'])\n",
        "T_CONTRACTOR_WORK_DAY"
      ],
      "execution_count": 280,
      "outputs": [
        {
          "output_type": "execute_result",
          "data": {
            "text/html": [
              "<div>\n",
              "<style scoped>\n",
              "    .dataframe tbody tr th:only-of-type {\n",
              "        vertical-align: middle;\n",
              "    }\n",
              "\n",
              "    .dataframe tbody tr th {\n",
              "        vertical-align: top;\n",
              "    }\n",
              "\n",
              "    .dataframe thead th {\n",
              "        text-align: right;\n",
              "    }\n",
              "</style>\n",
              "<table border=\"1\" class=\"dataframe\">\n",
              "  <thead>\n",
              "    <tr style=\"text-align: right;\">\n",
              "      <th></th>\n",
              "      <th>NAME</th>\n",
              "      <th>DATE_BEGIN</th>\n",
              "      <th>DATE_END</th>\n",
              "    </tr>\n",
              "  </thead>\n",
              "  <tbody>\n",
              "  </tbody>\n",
              "</table>\n",
              "</div>"
            ],
            "text/plain": [
              "Empty DataFrame\n",
              "Columns: [NAME, DATE_BEGIN, DATE_END]\n",
              "Index: []"
            ]
          },
          "metadata": {},
          "execution_count": 280
        }
      ]
    },
    {
      "cell_type": "code",
      "metadata": {
        "id": "8EaPDhbqUaKa"
      },
      "source": [
        "count = 0\n",
        "for i in range(len(T_CONTRACTOR_SHERULER)):\n",
        "    curent_day = (T_CONTRACTOR_SHERULER.iloc[i,3] - T_CONTRACTOR_SHERULER.iloc[i,2]).days\n",
        "    open = (T_CONTRACTOR_SHERULER.iloc[i,2])\n",
        "    while curent_day > 0:\n",
        "        for j in range(len(T_CONTRACTOR_SHERULER.iloc[i,1])):\n",
        "            day = T_CONTRACTOR_SHERULER.iloc[i,1]\n",
        "            if day[j] == 'д':\n",
        "                T_CONTRACTOR_WORK_DAY.loc[count] = ([T_CONTRACTOR_SHERULER.iloc[i,0], open + timedelta(hours=8), open + timedelta(hours=20)])\n",
        "                curent_day -= 1\n",
        "                open += timedelta(days=1)\n",
        "            if day[j] == 'в':\n",
        "                curent_day -= 1\n",
        "                open += timedelta(days=1)\n",
        "            if day[j] == 'с':\n",
        "                T_CONTRACTOR_WORK_DAY.loc[count] = ([T_CONTRACTOR_SHERULER.iloc[i,0], open + timedelta(hours=8), open + timedelta(days=1) + timedelta(hours=8)])\n",
        "                curent_day -= 1\n",
        "                open += timedelta(days=1)\n",
        "            if day[j] == 'н':\n",
        "                T_CONTRACTOR_WORK_DAY.loc[count] = ([T_CONTRACTOR_SHERULER.iloc[i,0], open + timedelta(hours=20), open + timedelta(days=1) + timedelta(hours=8)])\n",
        "                curent_day -= 1\n",
        "                open += timedelta(days=1)\n",
        "            count += 1\n",
        "T_CONTRACTOR_WORK_DAY.reset_index(drop=True, inplace=True)"
      ],
      "execution_count": 281,
      "outputs": []
    },
    {
      "cell_type": "code",
      "metadata": {
        "colab": {
          "base_uri": "https://localhost:8080/",
          "height": 424
        },
        "id": "1eVCk1nbusuJ",
        "outputId": "91587707-dbd2-4bcd-f461-fe7f39a6e7fd"
      },
      "source": [
        "T_CONTRACTOR_WORK_DAY"
      ],
      "execution_count": 282,
      "outputs": [
        {
          "output_type": "execute_result",
          "data": {
            "text/html": [
              "<div>\n",
              "<style scoped>\n",
              "    .dataframe tbody tr th:only-of-type {\n",
              "        vertical-align: middle;\n",
              "    }\n",
              "\n",
              "    .dataframe tbody tr th {\n",
              "        vertical-align: top;\n",
              "    }\n",
              "\n",
              "    .dataframe thead th {\n",
              "        text-align: right;\n",
              "    }\n",
              "</style>\n",
              "<table border=\"1\" class=\"dataframe\">\n",
              "  <thead>\n",
              "    <tr style=\"text-align: right;\">\n",
              "      <th></th>\n",
              "      <th>NAME</th>\n",
              "      <th>DATE_BEGIN</th>\n",
              "      <th>DATE_END</th>\n",
              "    </tr>\n",
              "  </thead>\n",
              "  <tbody>\n",
              "    <tr>\n",
              "      <th>0</th>\n",
              "      <td>Поставщик 1</td>\n",
              "      <td>2019-01-01 08:00:00</td>\n",
              "      <td>2019-01-01 20:00:00</td>\n",
              "    </tr>\n",
              "    <tr>\n",
              "      <th>1</th>\n",
              "      <td>Поставщик 1</td>\n",
              "      <td>2019-01-02 08:00:00</td>\n",
              "      <td>2019-01-02 20:00:00</td>\n",
              "    </tr>\n",
              "    <tr>\n",
              "      <th>2</th>\n",
              "      <td>Поставщик 1</td>\n",
              "      <td>2019-01-03 08:00:00</td>\n",
              "      <td>2019-01-03 20:00:00</td>\n",
              "    </tr>\n",
              "    <tr>\n",
              "      <th>3</th>\n",
              "      <td>Поставщик 1</td>\n",
              "      <td>2019-01-05 08:00:00</td>\n",
              "      <td>2019-01-06 08:00:00</td>\n",
              "    </tr>\n",
              "    <tr>\n",
              "      <th>4</th>\n",
              "      <td>Поставщик 1</td>\n",
              "      <td>2019-01-07 20:00:00</td>\n",
              "      <td>2019-01-08 08:00:00</td>\n",
              "    </tr>\n",
              "    <tr>\n",
              "      <th>...</th>\n",
              "      <td>...</td>\n",
              "      <td>...</td>\n",
              "      <td>...</td>\n",
              "    </tr>\n",
              "    <tr>\n",
              "      <th>458</th>\n",
              "      <td>Поставщик 3</td>\n",
              "      <td>2019-12-25 08:00:00</td>\n",
              "      <td>2019-12-25 20:00:00</td>\n",
              "    </tr>\n",
              "    <tr>\n",
              "      <th>459</th>\n",
              "      <td>Поставщик 3</td>\n",
              "      <td>2019-12-27 08:00:00</td>\n",
              "      <td>2019-12-27 20:00:00</td>\n",
              "    </tr>\n",
              "    <tr>\n",
              "      <th>460</th>\n",
              "      <td>Поставщик 3</td>\n",
              "      <td>2019-12-29 08:00:00</td>\n",
              "      <td>2019-12-29 20:00:00</td>\n",
              "    </tr>\n",
              "    <tr>\n",
              "      <th>461</th>\n",
              "      <td>Поставщик 3</td>\n",
              "      <td>2019-12-31 08:00:00</td>\n",
              "      <td>2019-12-31 20:00:00</td>\n",
              "    </tr>\n",
              "    <tr>\n",
              "      <th>462</th>\n",
              "      <td>Поставщик 3</td>\n",
              "      <td>2020-01-02 08:00:00</td>\n",
              "      <td>2020-01-02 20:00:00</td>\n",
              "    </tr>\n",
              "  </tbody>\n",
              "</table>\n",
              "<p>463 rows × 3 columns</p>\n",
              "</div>"
            ],
            "text/plain": [
              "            NAME          DATE_BEGIN            DATE_END\n",
              "0    Поставщик 1 2019-01-01 08:00:00 2019-01-01 20:00:00\n",
              "1    Поставщик 1 2019-01-02 08:00:00 2019-01-02 20:00:00\n",
              "2    Поставщик 1 2019-01-03 08:00:00 2019-01-03 20:00:00\n",
              "3    Поставщик 1 2019-01-05 08:00:00 2019-01-06 08:00:00\n",
              "4    Поставщик 1 2019-01-07 20:00:00 2019-01-08 08:00:00\n",
              "..           ...                 ...                 ...\n",
              "458  Поставщик 3 2019-12-25 08:00:00 2019-12-25 20:00:00\n",
              "459  Поставщик 3 2019-12-27 08:00:00 2019-12-27 20:00:00\n",
              "460  Поставщик 3 2019-12-29 08:00:00 2019-12-29 20:00:00\n",
              "461  Поставщик 3 2019-12-31 08:00:00 2019-12-31 20:00:00\n",
              "462  Поставщик 3 2020-01-02 08:00:00 2020-01-02 20:00:00\n",
              "\n",
              "[463 rows x 3 columns]"
            ]
          },
          "metadata": {},
          "execution_count": 282
        }
      ]
    },
    {
      "cell_type": "code",
      "metadata": {
        "colab": {
          "base_uri": "https://localhost:8080/"
        },
        "id": "GCU1W5fTu8qr",
        "outputId": "fda47bba-a5c5-44dd-c405-704d0ea3d453"
      },
      "source": [
        "T_CONTRACTOR_WORK_DAY.NAME.value_counts()"
      ],
      "execution_count": 283,
      "outputs": [
        {
          "output_type": "execute_result",
          "data": {
            "text/plain": [
              "Поставщик 2    259\n",
              "Поставщик 3    186\n",
              "Поставщик 1     18\n",
              "Name: NAME, dtype: int64"
            ]
          },
          "metadata": {},
          "execution_count": 283
        }
      ]
    },
    {
      "cell_type": "code",
      "metadata": {
        "colab": {
          "base_uri": "https://localhost:8080/"
        },
        "id": "xGnfsTUFvAs4",
        "outputId": "657e7ec3-6c58-4387-b6f8-5dae7c55ebb8"
      },
      "source": [
        "T_CONTRACTOR_WORK_DAY[(T_CONTRACTOR_WORK_DAY['DATE_BEGIN'] >= '2019-01-01')&(T_CONTRACTOR_WORK_DAY['DATE_BEGIN'] < '2019-02-01')].NAME.value_counts()[T_CONTRACTOR_WORK_DAY[(T_CONTRACTOR_WORK_DAY['DATE_BEGIN'] >= '2019-01-01')&(T_CONTRACTOR_WORK_DAY['DATE_BEGIN'] < '2019-02-01')].NAME.value_counts()>10]"
      ],
      "execution_count": 284,
      "outputs": [
        {
          "output_type": "execute_result",
          "data": {
            "text/plain": [
              "Поставщик 2    22\n",
              "Поставщик 1    18\n",
              "Поставщик 3    16\n",
              "Name: NAME, dtype: int64"
            ]
          },
          "metadata": {},
          "execution_count": 284
        }
      ]
    },
    {
      "cell_type": "code",
      "metadata": {
        "colab": {
          "base_uri": "https://localhost:8080/",
          "height": 363
        },
        "id": "Ps0Wj1NCwFQa",
        "outputId": "0d4b5be5-cea9-48a5-d9d0-d962f91f4b71"
      },
      "source": [
        "T_CONTRACTOR_WORK_DAY[(T_CONTRACTOR_WORK_DAY['DATE_BEGIN'] >= '2019-01-14')&(T_CONTRACTOR_WORK_DAY['DATE_BEGIN'] < '2019-01-17')]"
      ],
      "execution_count": 285,
      "outputs": [
        {
          "output_type": "execute_result",
          "data": {
            "text/html": [
              "<div>\n",
              "<style scoped>\n",
              "    .dataframe tbody tr th:only-of-type {\n",
              "        vertical-align: middle;\n",
              "    }\n",
              "\n",
              "    .dataframe tbody tr th {\n",
              "        vertical-align: top;\n",
              "    }\n",
              "\n",
              "    .dataframe thead th {\n",
              "        text-align: right;\n",
              "    }\n",
              "</style>\n",
              "<table border=\"1\" class=\"dataframe\">\n",
              "  <thead>\n",
              "    <tr style=\"text-align: right;\">\n",
              "      <th></th>\n",
              "      <th>NAME</th>\n",
              "      <th>DATE_BEGIN</th>\n",
              "      <th>DATE_END</th>\n",
              "    </tr>\n",
              "  </thead>\n",
              "  <tbody>\n",
              "    <tr>\n",
              "      <th>10</th>\n",
              "      <td>Поставщик 1</td>\n",
              "      <td>2019-01-15 20:00:00</td>\n",
              "      <td>2019-01-16 08:00:00</td>\n",
              "    </tr>\n",
              "    <tr>\n",
              "      <th>11</th>\n",
              "      <td>Поставщик 1</td>\n",
              "      <td>2019-01-16 20:00:00</td>\n",
              "      <td>2019-01-17 08:00:00</td>\n",
              "    </tr>\n",
              "    <tr>\n",
              "      <th>14</th>\n",
              "      <td>Поставщик 1</td>\n",
              "      <td>2019-01-14 20:00:00</td>\n",
              "      <td>2019-01-15 08:00:00</td>\n",
              "    </tr>\n",
              "    <tr>\n",
              "      <th>15</th>\n",
              "      <td>Поставщик 1</td>\n",
              "      <td>2019-01-15 20:00:00</td>\n",
              "      <td>2019-01-16 08:00:00</td>\n",
              "    </tr>\n",
              "    <tr>\n",
              "      <th>16</th>\n",
              "      <td>Поставщик 1</td>\n",
              "      <td>2019-01-16 08:00:00</td>\n",
              "      <td>2019-01-17 08:00:00</td>\n",
              "    </tr>\n",
              "    <tr>\n",
              "      <th>25</th>\n",
              "      <td>Поставщик 2</td>\n",
              "      <td>2019-01-14 20:00:00</td>\n",
              "      <td>2019-01-15 08:00:00</td>\n",
              "    </tr>\n",
              "    <tr>\n",
              "      <th>26</th>\n",
              "      <td>Поставщик 2</td>\n",
              "      <td>2019-01-16 08:00:00</td>\n",
              "      <td>2019-01-17 08:00:00</td>\n",
              "    </tr>\n",
              "    <tr>\n",
              "      <th>27</th>\n",
              "      <td>Поставщик 2</td>\n",
              "      <td>2019-01-15 20:00:00</td>\n",
              "      <td>2019-01-16 08:00:00</td>\n",
              "    </tr>\n",
              "    <tr>\n",
              "      <th>28</th>\n",
              "      <td>Поставщик 2</td>\n",
              "      <td>2019-01-16 20:00:00</td>\n",
              "      <td>2019-01-17 08:00:00</td>\n",
              "    </tr>\n",
              "    <tr>\n",
              "      <th>284</th>\n",
              "      <td>Поставщик 3</td>\n",
              "      <td>2019-01-15 20:00:00</td>\n",
              "      <td>2019-01-16 08:00:00</td>\n",
              "    </tr>\n",
              "  </tbody>\n",
              "</table>\n",
              "</div>"
            ],
            "text/plain": [
              "            NAME          DATE_BEGIN            DATE_END\n",
              "10   Поставщик 1 2019-01-15 20:00:00 2019-01-16 08:00:00\n",
              "11   Поставщик 1 2019-01-16 20:00:00 2019-01-17 08:00:00\n",
              "14   Поставщик 1 2019-01-14 20:00:00 2019-01-15 08:00:00\n",
              "15   Поставщик 1 2019-01-15 20:00:00 2019-01-16 08:00:00\n",
              "16   Поставщик 1 2019-01-16 08:00:00 2019-01-17 08:00:00\n",
              "25   Поставщик 2 2019-01-14 20:00:00 2019-01-15 08:00:00\n",
              "26   Поставщик 2 2019-01-16 08:00:00 2019-01-17 08:00:00\n",
              "27   Поставщик 2 2019-01-15 20:00:00 2019-01-16 08:00:00\n",
              "28   Поставщик 2 2019-01-16 20:00:00 2019-01-17 08:00:00\n",
              "284  Поставщик 3 2019-01-15 20:00:00 2019-01-16 08:00:00"
            ]
          },
          "metadata": {},
          "execution_count": 285
        }
      ]
    }
  ]
}